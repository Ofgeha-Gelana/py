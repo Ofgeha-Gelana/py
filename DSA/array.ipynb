{
 "cells": [
  {
   "metadata": {},
   "cell_type": "markdown",
   "source": "### How to work with array ?",
   "id": "34d5442f7778edd1"
  },
  {
   "metadata": {
    "ExecuteTime": {
     "end_time": "2025-10-15T18:23:25.571261Z",
     "start_time": "2025-10-15T18:23:25.443424Z"
    }
   },
   "cell_type": "code",
   "source": [
    "import numpy as np\n",
    "\n",
    "a = np.array([1, 2, 3])           # 1D array\n",
    "b = np.array([[1, 2], [3, 4]])    # 2D array\n"
   ],
   "id": "ae6675ce0fe98de4",
   "outputs": [],
   "execution_count": 2
  },
  {
   "metadata": {},
   "cell_type": "markdown",
   "source": "### Inspect",
   "id": "2890568fcf5bf272"
  },
  {
   "metadata": {
    "ExecuteTime": {
     "end_time": "2025-10-15T18:26:36.198147Z",
     "start_time": "2025-10-15T18:26:36.191402Z"
    }
   },
   "cell_type": "code",
   "source": [
    "print(a.size)\n",
    "print(b.shape)\n",
    "print(b.shape)"
   ],
   "id": "6d2832c4570b8c9e",
   "outputs": [
    {
     "name": "stdout",
     "output_type": "stream",
     "text": [
      "3\n",
      "(2, 2)\n",
      "(2, 2)\n"
     ]
    }
   ],
   "execution_count": 9
  },
  {
   "cell_type": "code",
   "id": "initial_id",
   "metadata": {
    "collapsed": true,
    "ExecuteTime": {
     "end_time": "2025-10-15T18:28:03.180176Z",
     "start_time": "2025-10-15T18:28:03.174815Z"
    }
   },
   "source": [
    "print(a[0])\n",
    "print(b[0])"
   ],
   "outputs": [
    {
     "name": "stdout",
     "output_type": "stream",
     "text": [
      "1\n",
      "[1 2]\n"
     ]
    }
   ],
   "execution_count": 13
  },
  {
   "metadata": {},
   "cell_type": "code",
   "outputs": [],
   "execution_count": null,
   "source": "a = n",
   "id": "eb4cf7c8404da45b"
  }
 ],
 "metadata": {
  "kernelspec": {
   "display_name": "Python 3",
   "language": "python",
   "name": "python3"
  },
  "language_info": {
   "codemirror_mode": {
    "name": "ipython",
    "version": 2
   },
   "file_extension": ".py",
   "mimetype": "text/x-python",
   "name": "python",
   "nbconvert_exporter": "python",
   "pygments_lexer": "ipython2",
   "version": "2.7.6"
  }
 },
 "nbformat": 4,
 "nbformat_minor": 5
}
